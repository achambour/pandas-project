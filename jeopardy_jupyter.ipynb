{
 "cells": [
  {
   "cell_type": "code",
   "execution_count": 5,
   "metadata": {},
   "outputs": [
    {
     "name": "stdout",
     "output_type": "stream",
     "text": [
      "~~~ Quizz Time ~~~ \n",
      "\n",
      "~~~ You have 3 trials for each question ~~~ \n",
      "\n",
      "Vaughan Williams' \"Romance\" is for orchestra & this instrument you blow & suck air through\n",
      "hi\n",
      "Incorrect answer. You have 2 more trials\n",
      "hi\n",
      "Incorrect answer. You have 1 more trials\n",
      "hi\n",
      "You have lost the game\n"
     ]
    }
   ],
   "source": [
    "import pandas as pd\n",
    "import random\n",
    "pd.set_option('display.max_colwidth', None)\n",
    "df = pd.read_csv('/Users/anastasiachambour/Desktop/jeopardy_starting/jeopardy.csv')\n",
    "\n",
    "#rename columns for convenience\n",
    "df = df.rename(\n",
    "  columns={\n",
    "    'Show Number': 'show_number',\n",
    "    ' Air Date': 'air_date',\n",
    "    ' Round': 'round',\n",
    "    ' Category': 'category',\n",
    "    ' Value': 'value',\n",
    "    ' Question': 'question',\n",
    "    ' Answer': 'answer'\n",
    "  }\n",
    ")\n",
    "\n",
    "#lambda function for reference only\n",
    "in_string = lambda lst, stri: all(x in stri for x in lst)\n",
    "\n",
    "#check if the elements of the list are in each of the questions. This creates a new column : is_in_question\n",
    "lst = ['Computer']\n",
    "df['is_in_question'] = df.question.apply(lambda row: all(word.lower() in row.lower() for word in lst))\n",
    "\n",
    "#nnumber of questions containing word(s) in list\n",
    "contains_words_lst = df.is_in_question.sum()\n",
    "print(str(contains_words_lst) + ' questions contain the word(s): ' + ', '.join(lst))\n",
    "\n",
    "#mean value of all questions containing the word(s) in list\n",
    "df['float_value'] = df.value.apply(lambda row: row.replace('$', '').replace(',','').replace('None','0'))\n",
    "df['float_value'] = pd.to_numeric(df['float_value'], downcast='float')\n",
    "df_containing_words = df[df.is_in_question == True]\n",
    "print(str(questions_containing_words.float_value.mean()) + ' is the mean value of all questions containing the word(s): ' + ','.join(lst))\n",
    "\n",
    "#number of unique answers to each question containing the word(s) in list\n",
    "answer_series = df_containing_words.answer\n",
    "n_answers = pd.Series.value_counts(answer_series)\n",
    "print(str(n_answers.count()) + ' unique answers to the questions containing the words:' + ', '.join(lst))\n",
    "\n",
    "#no questions containing the word(s) in list for each year\n",
    "df_time = df_containing_words[['air_date', 'question']].rename(columns= {'air_date': 'year'})\n",
    "df_time['year'] = df_time.year.apply(lambda row: row[:4])\n",
    "df_time = df_time.groupby('year').question.count()\n",
    "print(df_time)\n",
    "\n",
    "#number of each categories per round\n",
    "category_per_round = df[['round', 'category']].groupby(['round', 'category']).category.count().sort_values(ascending=False)\n",
    "print(category_per_round)\n",
    "\n",
    "#QUIZZ:\n",
    "print('~~~ Quizz Time ~~~ \\n')\n",
    "print('~~~ You have 3 trials for each question ~~~ \\n')\n",
    "question = random.choice(df.question.unique())\n",
    "print(question)\n",
    "answer = df.loc[df['question']==question, 'answer'].iloc[0]\n",
    "i = 0 #counter for 3 trials\n",
    "while i<3:\n",
    "    user_answer = input()\n",
    "    if user_answer == answer:\n",
    "        print('Correct answer')\n",
    "        break\n",
    "    else:\n",
    "        if i<2:\n",
    "            print('Incorrect answer. You have {} more trials'.format(str(2-i)))\n",
    "        if i==2:\n",
    "            print('You have lost the game')\n",
    "    i = i+1\n",
    "   \n",
    "\n",
    "\n"
   ]
  },
  {
   "cell_type": "code",
   "execution_count": null,
   "metadata": {},
   "outputs": [],
   "source": []
  },
  {
   "cell_type": "code",
   "execution_count": null,
   "metadata": {},
   "outputs": [],
   "source": []
  }
 ],
 "metadata": {
  "kernelspec": {
   "display_name": "Python 3",
   "language": "python",
   "name": "python3"
  },
  "language_info": {
   "codemirror_mode": {
    "name": "ipython",
    "version": 3
   },
   "file_extension": ".py",
   "mimetype": "text/x-python",
   "name": "python",
   "nbconvert_exporter": "python",
   "pygments_lexer": "ipython3",
   "version": "3.8.3"
  }
 },
 "nbformat": 4,
 "nbformat_minor": 4
}
